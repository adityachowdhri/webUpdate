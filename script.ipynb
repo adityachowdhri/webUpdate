{
 "cells": [
  {
   "cell_type": "code",
   "execution_count": 62,
   "id": "62e4fbad-ea86-4b25-a6af-db0b27226bc0",
   "metadata": {},
   "outputs": [],
   "source": [
    "#Import the createHash function \n",
    "from initialization import *\n"
   ]
  },
  {
   "cell_type": "code",
   "execution_count": null,
   "id": "2883675d-5116-483f-968b-b17e0006f3f3",
   "metadata": {},
   "outputs": [],
   "source": []
  },
  {
   "cell_type": "code",
   "execution_count": 63,
   "id": "6519c645-5ae3-4b99-b15c-7c961f00d8e6",
   "metadata": {},
   "outputs": [],
   "source": [
    "#Imports \n",
    "import time \n",
    "import hashlib \n",
    "from urllib.request import urlopen, Request \n",
    "from email.mime.text import MIMEText \n",
    "from email.mime.image import MIMEImage \n",
    "from email.mime.application import MIMEApplication \n",
    "from email.mime.multipart import MIMEMultipart \n",
    "import smtplib \n",
    "import os"
   ]
  },
  {
   "cell_type": "code",
   "execution_count": 64,
   "id": "423b6f72-6cac-41be-b569-9ad6868d01ca",
   "metadata": {},
   "outputs": [],
   "source": [
    "#Read all the URL's of the website and store them in an array\n",
    "def readWebsites():\n",
    "    websites = []\n",
    "    with open('websites.txt', 'r') as file:\n",
    "        for line in file:\n",
    "            websites.append(line.strip())\n",
    "    return websites"
   ]
  },
  {
   "cell_type": "code",
   "execution_count": 65,
   "id": "2fdc9541-0d6b-413e-a5b4-1320a03a90ec",
   "metadata": {},
   "outputs": [
    {
     "ename": "URLError",
     "evalue": "<urlopen error unknown url type: ['https>",
     "output_type": "error",
     "traceback": [
      "\u001b[0;31m---------------------------------------------------------------------------\u001b[0m",
      "\u001b[0;31mURLError\u001b[0m                                  Traceback (most recent call last)",
      "Cell \u001b[0;32mIn[65], line 2\u001b[0m\n\u001b[1;32m      1\u001b[0m websites \u001b[38;5;241m=\u001b[39m readWebsites()\n\u001b[0;32m----> 2\u001b[0m createHash(websites)\n",
      "File \u001b[0;32m~/Desktop/Github/webUpdate/initialization.py:14\u001b[0m, in \u001b[0;36mcreateHash\u001b[0;34m(website)\u001b[0m\n\u001b[1;32m     13\u001b[0m \u001b[38;5;28;01mdef\u001b[39;00m \u001b[38;5;21mgetHashCodes\u001b[39m():\n\u001b[0;32m---> 14\u001b[0m     \u001b[38;5;28;01mreturn\u001b[39;00m [\u001b[38;5;241m1\u001b[39m,\u001b[38;5;241m2\u001b[39m,\u001b[38;5;241m3\u001b[39m]\n",
      "File \u001b[0;32m~/anaconda3/lib/python3.11/urllib/request.py:216\u001b[0m, in \u001b[0;36murlopen\u001b[0;34m(url, data, timeout, cafile, capath, cadefault, context)\u001b[0m\n\u001b[1;32m    214\u001b[0m \u001b[38;5;28;01melse\u001b[39;00m:\n\u001b[1;32m    215\u001b[0m     opener \u001b[38;5;241m=\u001b[39m _opener\n\u001b[0;32m--> 216\u001b[0m \u001b[38;5;28;01mreturn\u001b[39;00m opener\u001b[38;5;241m.\u001b[39mopen(url, data, timeout)\n",
      "File \u001b[0;32m~/anaconda3/lib/python3.11/urllib/request.py:519\u001b[0m, in \u001b[0;36mOpenerDirector.open\u001b[0;34m(self, fullurl, data, timeout)\u001b[0m\n\u001b[1;32m    516\u001b[0m     req \u001b[38;5;241m=\u001b[39m meth(req)\n\u001b[1;32m    518\u001b[0m sys\u001b[38;5;241m.\u001b[39maudit(\u001b[38;5;124m'\u001b[39m\u001b[38;5;124murllib.Request\u001b[39m\u001b[38;5;124m'\u001b[39m, req\u001b[38;5;241m.\u001b[39mfull_url, req\u001b[38;5;241m.\u001b[39mdata, req\u001b[38;5;241m.\u001b[39mheaders, req\u001b[38;5;241m.\u001b[39mget_method())\n\u001b[0;32m--> 519\u001b[0m response \u001b[38;5;241m=\u001b[39m \u001b[38;5;28mself\u001b[39m\u001b[38;5;241m.\u001b[39m_open(req, data)\n\u001b[1;32m    521\u001b[0m \u001b[38;5;66;03m# post-process response\u001b[39;00m\n\u001b[1;32m    522\u001b[0m meth_name \u001b[38;5;241m=\u001b[39m protocol\u001b[38;5;241m+\u001b[39m\u001b[38;5;124m\"\u001b[39m\u001b[38;5;124m_response\u001b[39m\u001b[38;5;124m\"\u001b[39m\n",
      "File \u001b[0;32m~/anaconda3/lib/python3.11/urllib/request.py:541\u001b[0m, in \u001b[0;36mOpenerDirector._open\u001b[0;34m(self, req, data)\u001b[0m\n\u001b[1;32m    538\u001b[0m \u001b[38;5;28;01mif\u001b[39;00m result:\n\u001b[1;32m    539\u001b[0m     \u001b[38;5;28;01mreturn\u001b[39;00m result\n\u001b[0;32m--> 541\u001b[0m \u001b[38;5;28;01mreturn\u001b[39;00m \u001b[38;5;28mself\u001b[39m\u001b[38;5;241m.\u001b[39m_call_chain(\u001b[38;5;28mself\u001b[39m\u001b[38;5;241m.\u001b[39mhandle_open, \u001b[38;5;124m'\u001b[39m\u001b[38;5;124munknown\u001b[39m\u001b[38;5;124m'\u001b[39m,\n\u001b[1;32m    542\u001b[0m                         \u001b[38;5;124m'\u001b[39m\u001b[38;5;124munknown_open\u001b[39m\u001b[38;5;124m'\u001b[39m, req)\n",
      "File \u001b[0;32m~/anaconda3/lib/python3.11/urllib/request.py:496\u001b[0m, in \u001b[0;36mOpenerDirector._call_chain\u001b[0;34m(self, chain, kind, meth_name, *args)\u001b[0m\n\u001b[1;32m    494\u001b[0m \u001b[38;5;28;01mfor\u001b[39;00m handler \u001b[38;5;129;01min\u001b[39;00m handlers:\n\u001b[1;32m    495\u001b[0m     func \u001b[38;5;241m=\u001b[39m \u001b[38;5;28mgetattr\u001b[39m(handler, meth_name)\n\u001b[0;32m--> 496\u001b[0m     result \u001b[38;5;241m=\u001b[39m func(\u001b[38;5;241m*\u001b[39margs)\n\u001b[1;32m    497\u001b[0m     \u001b[38;5;28;01mif\u001b[39;00m result \u001b[38;5;129;01mis\u001b[39;00m \u001b[38;5;129;01mnot\u001b[39;00m \u001b[38;5;28;01mNone\u001b[39;00m:\n\u001b[1;32m    498\u001b[0m         \u001b[38;5;28;01mreturn\u001b[39;00m result\n",
      "File \u001b[0;32m~/anaconda3/lib/python3.11/urllib/request.py:1419\u001b[0m, in \u001b[0;36mUnknownHandler.unknown_open\u001b[0;34m(self, req)\u001b[0m\n\u001b[1;32m   1417\u001b[0m \u001b[38;5;28;01mdef\u001b[39;00m \u001b[38;5;21munknown_open\u001b[39m(\u001b[38;5;28mself\u001b[39m, req):\n\u001b[1;32m   1418\u001b[0m     \u001b[38;5;28mtype\u001b[39m \u001b[38;5;241m=\u001b[39m req\u001b[38;5;241m.\u001b[39mtype\n\u001b[0;32m-> 1419\u001b[0m     \u001b[38;5;28;01mraise\u001b[39;00m URLError(\u001b[38;5;124m'\u001b[39m\u001b[38;5;124munknown url type: \u001b[39m\u001b[38;5;132;01m%s\u001b[39;00m\u001b[38;5;124m'\u001b[39m \u001b[38;5;241m%\u001b[39m \u001b[38;5;28mtype\u001b[39m)\n",
      "\u001b[0;31mURLError\u001b[0m: <urlopen error unknown url type: ['https>"
     ]
    }
   ],
   "source": [
    "websites = readWebsites()\n",
    "createHash(websites)"
   ]
  },
  {
   "cell_type": "code",
   "execution_count": 27,
   "id": "cebc7c42-8be1-4dc1-8c5a-ddfa1bae2175",
   "metadata": {},
   "outputs": [],
   "source": [
    "#Return an array of hashed websites \n",
    "def websitesHash(websites):\n",
    "    hashedArray = []\n",
    "    for website in websites:\n",
    "        hashedArray.append(createHash(website))\n",
    "\n",
    "    return hashedArray"
   ]
  },
  {
   "cell_type": "code",
   "execution_count": 36,
   "id": "1567b3ce-700a-41b3-84ac-0763e4b5d03f",
   "metadata": {},
   "outputs": [],
   "source": [
    "def sendEmail(url, senderAddress, passkey, recievers):\n",
    "    smtp = smtplib.SMTP('smtp.gmail.com', 587) \n",
    "    smtp.ehlo() \n",
    "    smtp.starttls() \n",
    "    smtp.login(senderAddress, passkey)\n",
    "    msg = MIMEMultipart() \n",
    "    msg['Subject'] = \"Change to \" + url  \n",
    "    msg.attach(MIMEText(\"Test Content\"))\n",
    "    smtp.sendmail(from_addr=senderAddress, to_addrs=recievers, msg=msg.as_string()) \n",
    "    smtp.quit()"
   ]
  },
  {
   "cell_type": "code",
   "execution_count": 37,
   "id": "31559097-0a38-49c2-8a03-4f33ebbbe134",
   "metadata": {},
   "outputs": [],
   "source": [
    "#sendEmail(\"No Website\", 'kavitastarot@gmail.com', 'eptn cgjj zkxo cbse', [\"adityachowdhri123@gmail.com\"])"
   ]
  },
  {
   "cell_type": "code",
   "execution_count": null,
   "id": "5c280c5b-9650-4ff0-9429-ea90cd84ceff",
   "metadata": {},
   "outputs": [],
   "source": []
  },
  {
   "cell_type": "code",
   "execution_count": null,
   "id": "5885debc-ac57-43dd-97cf-92f976c88c24",
   "metadata": {},
   "outputs": [],
   "source": []
  }
 ],
 "metadata": {
  "kernelspec": {
   "display_name": "Python 3 (ipykernel)",
   "language": "python",
   "name": "python3"
  },
  "language_info": {
   "codemirror_mode": {
    "name": "ipython",
    "version": 3
   },
   "file_extension": ".py",
   "mimetype": "text/x-python",
   "name": "python",
   "nbconvert_exporter": "python",
   "pygments_lexer": "ipython3",
   "version": "3.11.8"
  }
 },
 "nbformat": 4,
 "nbformat_minor": 5
}
