{
 "cells": [
  {
   "cell_type": "code",
   "execution_count": 43,
   "id": "4e2b7fdf-4c65-4018-8b85-01e0fcd31e5c",
   "metadata": {},
   "outputs": [],
   "source": [
    "import time \n",
    "import hashlib \n",
    "from urllib.request import urlopen, Request \n",
    "from email.mime.text import MIMEText \n",
    "from email.mime.image import MIMEImage \n",
    "from email.mime.application import MIMEApplication \n",
    "from email.mime.multipart import MIMEMultipart \n",
    "import smtplib \n",
    "import os"
   ]
  },
  {
   "cell_type": "code",
   "execution_count": 44,
   "id": "3a8a179d-4760-46ed-a8cd-bb237093ce12",
   "metadata": {},
   "outputs": [],
   "source": [
    "#Import the URL's to be running the script on from a text file\n",
    "# Open the file in read mode\n",
    "websites = []\n",
    "with open('websites.txt', 'r') as file:\n",
    "    # Read each line in the file\n",
    "    for line in file:\n",
    "        # Print the line\n",
    "        websites.append(line.strip())"
   ]
  },
  {
   "cell_type": "code",
   "execution_count": 47,
   "id": "ba673d7e-120d-493c-a890-6581d9536f9d",
   "metadata": {},
   "outputs": [],
   "source": [
    "# Importing libraries \n",
    "\n",
    "\n",
    "# setting the URL you want to monitor \n",
    "url = Request(websites[0])\n",
    "\n",
    "# open the URL\n",
    "response = urlopen(url)\n",
    "\n",
    "# read and print the response\n",
    "content = response.read().decode('utf-8')"
   ]
  },
  {
   "cell_type": "code",
   "execution_count": 48,
   "id": "482e4972-9735-4653-8ad7-d7cf67c46c95",
   "metadata": {},
   "outputs": [
    {
     "name": "stdout",
     "output_type": "stream",
     "text": [
      "c3d3d98020462d5e7ba02cdf7dd153b7009133f4bf08689f5966b547\n"
     ]
    }
   ],
   "source": [
    "currentHash = hashlib.sha224(content.encode()).hexdigest() \n",
    "print(currentHash)"
   ]
  },
  {
   "cell_type": "code",
   "execution_count": null,
   "id": "f6ba189e-bc92-475e-b446-a1ad9bbccb63",
   "metadata": {},
   "outputs": [],
   "source": []
  },
  {
   "cell_type": "code",
   "execution_count": 38,
   "id": "0d855b3b-89ce-4b8f-8c88-22d3593f3354",
   "metadata": {},
   "outputs": [],
   "source": [
    "smtp = smtplib.SMTP('smtp.gmail.com', 587) \n",
    "smtp.ehlo() \n",
    "smtp.starttls() \n",
    "smtp.login('kavitastarot@gmail.com', 'eptn cgjj zkxo cbse')\n",
    "msg = MIMEMultipart() \n",
    "msg['Subject'] = \"Test Email\" \n",
    "msg.attach(MIMEText(\"Test Content\"))"
   ]
  },
  {
   "cell_type": "code",
   "execution_count": 39,
   "id": "fbf90dc6-38ab-4205-a55d-97823b6ff643",
   "metadata": {},
   "outputs": [
    {
     "data": {
      "text/plain": [
       "(221,\n",
       " b'2.0.0 closing connection d9443c01a7336-1f9eb2f0406sm17434595ad.37 - gsmtp')"
      ]
     },
     "execution_count": 39,
     "metadata": {},
     "output_type": "execute_result"
    }
   ],
   "source": []
  },
  {
   "cell_type": "code",
   "execution_count": 53,
   "id": "660aea0a-9017-43f3-9ef0-32910226b4e6",
   "metadata": {},
   "outputs": [
    {
     "name": "stdout",
     "output_type": "stream",
     "text": [
      "HTTP error occurred: 403 Client Error: Forbidden for url: https://leetcode.com/\n",
      "Hash: None\n"
     ]
    }
   ],
   "source": [
    "import requests\n",
    "import hashlib\n",
    "\n",
    "def fetch_and_hash(url):\n",
    "    headers = {\n",
    "        'User-Agent': 'Mozilla/5.0 (Windows NT 10.0; Win64; x64) AppleWebKit/537.36 (KHTML, like Gecko) Chrome/91.0.4472.124 Safari/537.36',\n",
    "        'Referer': 'https://www.google.com/',\n",
    "        'Accept-Language': 'en-US,en;q=0.9',\n",
    "        'Accept-Encoding': 'gzip, deflate, br',\n",
    "        'Accept': 'text/html,application/xhtml+xml,application/xml;q=0.9,image/webp,image/apng,*/*;q=0.8'\n",
    "    }\n",
    "\n",
    "    try:\n",
    "        # Send a GET request to the website with custom headers\n",
    "        response = requests.get(url, headers=headers)\n",
    "        \n",
    "        # Check if the request was successful\n",
    "        response.raise_for_status()  # Raises an HTTPError for bad responses (4xx and 5xx)\n",
    "        \n",
    "        # Access the content of the response\n",
    "        content = response.text  # Response content as a string\n",
    "        \n",
    "        # Calculate the SHA-224 hash of the content\n",
    "        currentHash = hashlib.sha224(content.encode()).hexdigest()\n",
    "        \n",
    "        return currentHash\n",
    "    \n",
    "    except requests.exceptions.HTTPError as http_err:\n",
    "        print(f\"HTTP error occurred: {http_err}\")\n",
    "    except Exception as err:\n",
    "        print(f\"An error occurred: {err}\")\n",
    "\n",
    "# Example usage\n",
    "website = 'https://leetcode.com/'\n",
    "hash_result = fetch_and_hash(website)\n",
    "print(f\"Hash: {hash_result}\")\n"
   ]
  },
  {
   "cell_type": "code",
   "execution_count": 52,
   "id": "83096eeb-29bf-4a71-89e4-1cf076f09539",
   "metadata": {},
   "outputs": [
    {
     "ename": "SyntaxError",
     "evalue": "incomplete input (2658126138.py, line 17)",
     "output_type": "error",
     "traceback": [
      "\u001b[0;36m  Cell \u001b[0;32mIn[52], line 17\u001b[0;36m\u001b[0m\n\u001b[0;31m    # Check if the request was successful\u001b[0m\n\u001b[0m                                         ^\u001b[0m\n\u001b[0;31mSyntaxError\u001b[0m\u001b[0;31m:\u001b[0m incomplete input\n"
     ]
    }
   ],
   "source": [
    "import requests\n",
    "import hashlib\n",
    "\n",
    "def fetch_and_hash(url):\n",
    "    headers = {\n",
    "        'User-Agent': 'Mozilla/5.0 (Windows NT 10.0; Win64; x64) AppleWebKit/537.36 (KHTML, like Gecko) Chrome/91.0.4472.124 Safari/537.36',\n",
    "        'Referer': 'https://www.google.com/',\n",
    "        'Accept-Language': 'en-US,en;q=0.9',\n",
    "        'Accept-Encoding': 'gzip, deflate, br',\n",
    "        'Accept': 'text/html,application/xhtml+xml,application/xml;q=0.9,image/webp,image/apng,*/*;q=0.8'\n",
    "    }\n",
    "\n",
    "    try:\n",
    "        # Send a GET request to the website with custom headers\n",
    "        response = requests.get(url, headers=headers)\n",
    "        \n",
    "        # Check if the request was successful\n"
   ]
  },
  {
   "cell_type": "code",
   "execution_count": null,
   "id": "7eed2b10-4561-434c-8ce9-fcfea69811eb",
   "metadata": {},
   "outputs": [],
   "source": []
  }
 ],
 "metadata": {
  "kernelspec": {
   "display_name": "Python 3 (ipykernel)",
   "language": "python",
   "name": "python3"
  },
  "language_info": {
   "codemirror_mode": {
    "name": "ipython",
    "version": 3
   },
   "file_extension": ".py",
   "mimetype": "text/x-python",
   "name": "python",
   "nbconvert_exporter": "python",
   "pygments_lexer": "ipython3",
   "version": "3.11.8"
  }
 },
 "nbformat": 4,
 "nbformat_minor": 5
}
